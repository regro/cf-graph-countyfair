{
 "cells": [
  {
   "cell_type": "code",
   "execution_count": 1,
   "metadata": {},
   "outputs": [],
   "source": [
    "%load_ext autoreload\n",
    "\n",
    "%autoreload 2"
   ]
  },
  {
   "cell_type": "code",
   "execution_count": 2,
   "metadata": {},
   "outputs": [],
   "source": [
    "import logging\n",
    "\n",
    "from conda_forge_tick.utils import setup_logging\n",
    "\n",
    "setup_logging(\"DEBUG\")"
   ]
  },
  {
   "cell_type": "markdown",
   "metadata": {},
   "source": [
    "## Run A Migration"
   ]
  },
  {
   "cell_type": "code",
   "execution_count": 3,
   "metadata": {},
   "outputs": [],
   "source": [
    "from conda_forge_tick.all_feedstocks import get_all_feedstocks\n",
    "from conda_forge_tick.utils import load_graph\n",
    "from conda_forge_tick.feedstock_parser import load_feedstock\n",
    "\n",
    "gx = load_graph()"
   ]
  },
  {
   "cell_type": "code",
   "execution_count": 4,
   "metadata": {},
   "outputs": [
    {
     "name": "stderr",
     "output_type": "stream",
     "text": [
      "loading migrators: 100%|████████████████████████| 78/78 [00:14<00:00,  5.50it/s]\n"
     ]
    }
   ],
   "source": [
    "from conda_forge_tick.make_migrators import load_migrators\n",
    "\n",
    "mgs = load_migrators()"
   ]
  },
  {
   "cell_type": "code",
   "execution_count": 5,
   "metadata": {},
   "outputs": [
    {
     "name": "stdout",
     "output_type": "stream",
     "text": [
      "libboost186\n"
     ]
    }
   ],
   "source": [
    "for mg in mgs:\n",
    "    if \"boost\" in mg.name:\n",
    "        print(mg.name)\n",
    "        break"
   ]
  },
  {
   "cell_type": "code",
   "execution_count": 9,
   "metadata": {},
   "outputs": [],
   "source": [
    "from conda_forge_tick.migration_runner import run_migration_local"
   ]
  },
  {
   "cell_type": "code",
   "execution_count": 11,
   "metadata": {},
   "outputs": [],
   "source": [
    "with gx.nodes[\"basictools\"][\"payload\"] as attrs:\n",
    "\n",
    "    data = run_migration_local(\n",
    "        migrator=mg,\n",
    "        feedstock_dir=\"../basictools-feedstock\",\n",
    "        feedstock_name=\"basictools\",\n",
    "        node_attrs=attrs,\n",
    "        default_branch=\"main\",\n",
    "    )"
   ]
  },
  {
   "cell_type": "code",
   "execution_count": null,
   "metadata": {},
   "outputs": [],
   "source": []
  },
  {
   "cell_type": "code",
   "execution_count": null,
   "metadata": {},
   "outputs": [],
   "source": []
  },
  {
   "cell_type": "code",
   "execution_count": null,
   "metadata": {},
   "outputs": [],
   "source": []
  },
  {
   "cell_type": "code",
   "execution_count": null,
   "metadata": {},
   "outputs": [],
   "source": []
  },
  {
   "cell_type": "code",
   "execution_count": null,
   "metadata": {},
   "outputs": [],
   "source": [
    "from conda_forge_feedstock_check_solvable import is_recipe_solvable"
   ]
  },
  {
   "cell_type": "code",
   "execution_count": null,
   "metadata": {
    "scrolled": true
   },
   "outputs": [],
   "source": [
    "res = is_recipe_solvable(\n",
    "    \"../hpp-fcl-feedstock\",\n",
    "    build_platform=dict(\n",
    "      linux_aarch64=\"linux_64\",\n",
    "      linux_ppc64le=\"linux_64\",\n",
    "      osx_arm64=\"osx_64\",\n",
    "    ),\n",
    "    verbosity=3,\n",
    "    solver=\"mamba\",\n",
    ")\n",
    "        \n",
    "        "
   ]
  },
  {
   "cell_type": "code",
   "execution_count": null,
   "metadata": {},
   "outputs": [],
   "source": [
    "import json\n",
    "\n",
    "with open(\"/Users/beckermr/Downloads/repodata.json\") as fp:\n",
    "    rd = json.load(fp)"
   ]
  },
  {
   "cell_type": "code",
   "execution_count": null,
   "metadata": {},
   "outputs": [],
   "source": [
    "for key in rd[\"packages.conda\"]:\n",
    "    if key.startswith(\"qhull-static\") or key.startswith(\"libboost-python-devel\"):\n",
    "        print(key)"
   ]
  },
  {
   "cell_type": "code",
   "execution_count": null,
   "metadata": {},
   "outputs": [],
   "source": []
  },
  {
   "cell_type": "markdown",
   "metadata": {},
   "source": [
    "## Build a Node"
   ]
  },
  {
   "cell_type": "code",
   "execution_count": 5,
   "metadata": {},
   "outputs": [],
   "source": [
    "from conda_forge_tick.all_feedstocks import get_all_feedstocks\n",
    "from conda_forge_tick.utils import load_graph\n",
    "from conda_forge_tick.feedstock_parser import load_feedstock\n",
    "\n",
    "gx = load_graph()\n"
   ]
  },
  {
   "cell_type": "code",
   "execution_count": 6,
   "metadata": {},
   "outputs": [
    {
     "name": "stderr",
     "output_type": "stream",
     "text": [
      "loading migrators: 100%|████████████████████████| 66/66 [00:11<00:00,  5.68it/s]\n"
     ]
    }
   ],
   "source": [
    "from conda_forge_tick.make_migrators import load_migrators\n",
    "\n",
    "mgs = load_migrators(skip_paused=False)"
   ]
  },
  {
   "cell_type": "code",
   "execution_count": 7,
   "metadata": {},
   "outputs": [],
   "source": [
    "dmgs = {mg.name: mg for mg in mgs}\n",
    "assert len(dmgs) == len(mgs)\n",
    "\n",
    "mg = dmgs[\"python313\"]"
   ]
  },
  {
   "cell_type": "code",
   "execution_count": 9,
   "metadata": {},
   "outputs": [
    {
     "name": "stdout",
     "output_type": "stream",
     "text": [
      "['gnuradio', 'gnuradio-soapy']\n",
      "['heavydb-ext', 'omniscidb']\n",
      "['fenics-basix', 'fenics-basix-meta']\n",
      "['intel-compiler-repack', 'numpy', 'pyopencl']\n",
      "['gnuradio', 'gnuradio-soapy']\n",
      "['heavydb-ext', 'omniscidb']\n",
      "['fenics-basix', 'fenics-basix-meta']\n",
      "['intel-compiler-repack', 'numpy', 'pyopencl']\n"
     ]
    }
   ],
   "source": [
    "import networkx as nx\n",
    "\n",
    "gg = mg.graph\n",
    "\n",
    "for cyc in nx.chordless_cycles(gg):\n",
    "    print(cyc)\n",
    "\n",
    "gg.remove_edges_from(nx.selfloop_edges(gg))\n",
    "\n",
    "for cyc in nx.chordless_cycles(gg):\n",
    "    print(cyc)"
   ]
  },
  {
   "cell_type": "code",
   "execution_count": 10,
   "metadata": {},
   "outputs": [
    {
     "name": "stdout",
     "output_type": "stream",
     "text": [
      "intel-compiler-repack \n",
      " pred: ['pyopencl'] \n",
      " succ: ['numpy']\n",
      "numpy \n",
      " pred: ['intel-compiler-repack'] \n",
      " succ: ['pyopencl']\n",
      "pyopencl \n",
      " pred: ['numpy'] \n",
      " succ: ['intel-compiler-repack']\n"
     ]
    }
   ],
   "source": [
    "# gx.remove_edges_from(nx.selfloop_edges(gx))\n",
    "\n",
    "cyc = ['intel-compiler-repack', 'numpy', 'pyopencl']\n",
    "for node in cyc:\n",
    "    print(\n",
    "        node, \"\\n\", \n",
    "        \"pred:\", [cy for cy in cyc if cy in list(gg.predecessors(node))], \"\\n\", \n",
    "        \"succ:\", [cy for cy in cyc if cy in list(gg.successors(node))]\n",
    "    )"
   ]
  },
  {
   "cell_type": "code",
   "execution_count": 11,
   "metadata": {},
   "outputs": [
    {
     "data": {
      "text/plain": [
       "{'_openmp_mutex',\n",
       " 'c_compiler_stub',\n",
       " 'c_stdlib_stub',\n",
       " 'ctng-compiler-activation',\n",
       " 'ctng-compilers',\n",
       " 'cxx_compiler_stub',\n",
       " 'dpcpp-cpp-rt',\n",
       " 'intel-cmplr-lib-rt',\n",
       " 'intel-cmplr-lib-ur',\n",
       " 'intel-cmplr-lic-rt',\n",
       " 'intel-compiler-repack',\n",
       " 'intel-opencl-rt',\n",
       " 'intel-sycl-rt',\n",
       " 'khronos-opencl-icd-loader',\n",
       " 'level-zero-devel',\n",
       " 'libxml2',\n",
       " 'linux-sysroot',\n",
       " 'llvm-openmp',\n",
       " 'mpich',\n",
       " 'ocl-icd',\n",
       " 'openmp',\n",
       " 'python',\n",
       " 'tbb-devel',\n",
       " 'vc',\n",
       " 'zlib'}"
      ]
     },
     "execution_count": 11,
     "metadata": {},
     "output_type": "execute_result"
    }
   ],
   "source": [
    "gx.nodes['intel-compiler-repack'][\"payload\"][\"requirements\"][\"host\"]"
   ]
  },
  {
   "cell_type": "code",
   "execution_count": null,
   "metadata": {},
   "outputs": [],
   "source": [
    "with gx.nodes[\"gdal\"][\"payload\"] as attrs:\n",
    "    attrs = load_feedstock(\"gdal\", attrs)"
   ]
  },
  {
   "cell_type": "code",
   "execution_count": null,
   "metadata": {},
   "outputs": [],
   "source": [
    "list(attrs.keys()), attrs[\"platforms\"]"
   ]
  },
  {
   "cell_type": "markdown",
   "metadata": {},
   "source": [
    "## Debug a Version Migration"
   ]
  },
  {
   "cell_type": "code",
   "execution_count": null,
   "metadata": {},
   "outputs": [],
   "source": [
    "from conda_forge_tick.make_migrators import load_migrators"
   ]
  },
  {
   "cell_type": "code",
   "execution_count": null,
   "metadata": {},
   "outputs": [],
   "source": [
    "mgs = load_migrators()"
   ]
  },
  {
   "cell_type": "code",
   "execution_count": null,
   "metadata": {},
   "outputs": [],
   "source": [
    "from conda_forge_tick.all_feedstocks import get_all_feedstocks\n",
    "from conda_forge_tick.utils import load_graph\n",
    "\n",
    "gx = load_graph()"
   ]
  },
  {
   "cell_type": "code",
   "execution_count": null,
   "metadata": {},
   "outputs": [],
   "source": [
    "from conda_forge_tick.utils import change_log_level\n",
    "\n",
    "with change_log_level(\"conda_forge_tick\", \"DEBUG\"):\n",
    "    print(mgs[0].filter(gx.nodes[\"hstream\"][\"payload\"].data))"
   ]
  },
  {
   "cell_type": "markdown",
   "metadata": {},
   "source": [
    "## Find Some Files"
   ]
  },
  {
   "cell_type": "code",
   "execution_count": null,
   "metadata": {},
   "outputs": [],
   "source": [
    "from conda_forge_tick.lazy_json_backends import get_sharded_path"
   ]
  },
  {
   "cell_type": "code",
   "execution_count": null,
   "metadata": {},
   "outputs": [],
   "source": [
    "get_sharded_path(\"node_attrs/ucx-split.json\")"
   ]
  },
  {
   "cell_type": "code",
   "execution_count": null,
   "metadata": {},
   "outputs": [],
   "source": [
    "from conda_forge_tick.lazy_json_backends import LazyJson\n",
    "\n",
    "with LazyJson(\"node_attrs/ucx-split.json\") as attrs:\n",
    "    print(attrs.data.get(\"version\", None))"
   ]
  },
  {
   "cell_type": "code",
   "execution_count": null,
   "metadata": {
    "scrolled": true
   },
   "outputs": [],
   "source": [
    "from conda_forge_tick.feedstock_parser import load_feedstock_local\n",
    "\n",
    "attrs = {}\n",
    "load_feedstock_local(\"ucx-split\", attrs)"
   ]
  },
  {
   "cell_type": "code",
   "execution_count": null,
   "metadata": {},
   "outputs": [],
   "source": [
    "attrs[\"version\"]"
   ]
  },
  {
   "cell_type": "markdown",
   "metadata": {},
   "source": [
    "## Load the graph"
   ]
  },
  {
   "cell_type": "code",
   "execution_count": null,
   "metadata": {},
   "outputs": [],
   "source": [
    "from conda_forge_tick.all_feedstocks import get_all_feedstocks\n",
    "from conda_forge_tick.utils import load_graph\n",
    "\n",
    "gx = load_graph()"
   ]
  },
  {
   "cell_type": "code",
   "execution_count": null,
   "metadata": {},
   "outputs": [],
   "source": [
    "import pprint\n",
    "import yaml\n",
    "\n",
    "node = \"setuptools_scm\"\n",
    "\n",
    "print(yaml.dump(gx.nodes[node][\"payload\"].data[\"requirements\"]))"
   ]
  },
  {
   "cell_type": "markdown",
   "metadata": {},
   "source": [
    "## Check Some Version Stuff"
   ]
  },
  {
   "cell_type": "code",
   "execution_count": null,
   "metadata": {},
   "outputs": [],
   "source": [
    "from conda_forge_tick.update_upstream_versions import update_upstream_versions"
   ]
  },
  {
   "cell_type": "code",
   "execution_count": null,
   "metadata": {},
   "outputs": [],
   "source": [
    "import copy\n",
    "\n",
    "gxc = copy.deepcopy(gx)\n",
    "\n",
    "for node in list(gxc.nodes):\n",
    "    if node not in [\"tzdata\", \"openssl\", \"jpeg\", \"cddlib\"]:\n",
    "        gxc.remove_node(node)"
   ]
  },
  {
   "cell_type": "code",
   "execution_count": null,
   "metadata": {},
   "outputs": [],
   "source": [
    "update_upstream_versions(gxc, debug=True)"
   ]
  },
  {
   "cell_type": "code",
   "execution_count": null,
   "metadata": {},
   "outputs": [],
   "source": []
  },
  {
   "cell_type": "code",
   "execution_count": null,
   "metadata": {},
   "outputs": [],
   "source": []
  },
  {
   "cell_type": "code",
   "execution_count": null,
   "metadata": {},
   "outputs": [],
   "source": []
  },
  {
   "cell_type": "code",
   "execution_count": null,
   "metadata": {},
   "outputs": [],
   "source": []
  },
  {
   "cell_type": "markdown",
   "metadata": {},
   "source": [
    "## Look at a Migration"
   ]
  },
  {
   "cell_type": "code",
   "execution_count": null,
   "metadata": {},
   "outputs": [],
   "source": [
    "from conda_forge_tick.auto_tick import migration_factory, add_arch_migrate"
   ]
  },
  {
   "cell_type": "code",
   "execution_count": null,
   "metadata": {},
   "outputs": [],
   "source": [
    "mgs = []\n",
    "add_arch_migrate(mgs, gx)"
   ]
  },
  {
   "cell_type": "code",
   "execution_count": null,
   "metadata": {},
   "outputs": [],
   "source": [
    "mg = mgs[0]"
   ]
  },
  {
   "cell_type": "code",
   "execution_count": null,
   "metadata": {},
   "outputs": [],
   "source": [
    "node_to_check = \"maturin\""
   ]
  },
  {
   "cell_type": "code",
   "execution_count": null,
   "metadata": {},
   "outputs": [],
   "source": [
    "from conda_forge_tick.make_graph import get_deps_from_outputs_lut\n",
    "import networkx as nx\n",
    "\n",
    "arches = {\n",
    "    \"linux_aarch64\": \"default\",\n",
    "    \"linux_ppc64le\": \"default\",\n",
    "}\n",
    "\n",
    "\n",
    "graph2 = nx.create_empty_copy(gx)\n",
    "for node, attrs in gx.nodes(data=\"payload\"):\n",
    "    for plat_arch in arches:\n",
    "        deps = set().union(\n",
    "            *attrs.get(\n",
    "                f\"{plat_arch}_requirements\",\n",
    "                attrs.get(\"requirements\", {}),\n",
    "            ).values()\n",
    "        )\n",
    "        for dep in get_deps_from_outputs_lut(deps, gx.graph[\"outputs_lut\"]):\n",
    "            graph2.add_edge(dep, node)"
   ]
  },
  {
   "cell_type": "code",
   "execution_count": null,
   "metadata": {},
   "outputs": [],
   "source": [
    "print(sorted(graph2.predecessors(node_to_check)))"
   ]
  },
  {
   "cell_type": "code",
   "execution_count": null,
   "metadata": {},
   "outputs": [],
   "source": [
    "from conda_forge_tick.utils import pluck\n",
    "\n",
    "graph = graph2\n",
    "packages = mg.target_packages.copy()\n",
    "for target in mg.target_packages:\n",
    "    if target in graph.nodes:\n",
    "        packages.update(nx.ancestors(graph, target))\n",
    "for node in list(graph.nodes.keys()):\n",
    "    if node not in packages:\n",
    "        pluck(graph, node)\n",
    "# post-plucking cleanup\n",
    "graph.remove_edges_from(nx.selfloop_edges(graph))"
   ]
  },
  {
   "cell_type": "code",
   "execution_count": null,
   "metadata": {},
   "outputs": [],
   "source": [
    "print(sorted(graph2.predecessors(node_to_check)))"
   ]
  },
  {
   "cell_type": "code",
   "execution_count": null,
   "metadata": {},
   "outputs": [],
   "source": [
    "from conda_forge_tick.migrators.migration_yaml import all_noarch\n",
    "\n",
    "ignored_packages = {\n",
    "    \"make\",\n",
    "    \"perl\",\n",
    "    \"toolchain\",\n",
    "    \"posix\",\n",
    "    \"patchelf\",  # weird issue\n",
    "}\n",
    "\n",
    "latest_preds = sorted(graph.predecessors(node_to_check))\n",
    "\n",
    "for node, attrs in list(graph.nodes(\"payload\")):\n",
    "    if (\n",
    "        (not attrs)\n",
    "        or node.endswith(\"_stub\")\n",
    "        or node.startswith(\"m2-\")\n",
    "        or node.startswith(\"m2w64-\")\n",
    "        or node.startswith(\"__\")\n",
    "        or (node in ignored_packages)\n",
    "        or all_noarch(attrs)\n",
    "    ):\n",
    "        pluck(graph, node)\n",
    "        new_latest_preds = sorted(graph.predecessors(node_to_check))\n",
    "        if new_latest_preds != latest_preds:\n",
    "            print(node)\n",
    "            print(\"    new preds:\", new_latest_preds)\n",
    "            print(\"    old preds:\", latest_preds)\n",
    "            print(\" \")\n",
    "            latest_preds = new_latest_preds\n",
    "\n",
    "# post-plucking cleanup\n",
    "graph.remove_edges_from(nx.selfloop_edges(graph))"
   ]
  },
  {
   "cell_type": "code",
   "execution_count": null,
   "metadata": {},
   "outputs": [],
   "source": [
    "print(sorted(graph2.predecessors(node_to_check)))"
   ]
  },
  {
   "cell_type": "code",
   "execution_count": null,
   "metadata": {},
   "outputs": [],
   "source": []
  },
  {
   "cell_type": "code",
   "execution_count": null,
   "metadata": {},
   "outputs": [],
   "source": []
  },
  {
   "cell_type": "code",
   "execution_count": null,
   "metadata": {},
   "outputs": [],
   "source": [
    "import os\n",
    "from conda_forge_tick.contexts import MigratorContext, MigratorSessionContext\n",
    "\n",
    "\n",
    "mctx = MigratorSessionContext(\n",
    "    circle_build_url=os.getenv(\"CIRCLE_BUILD_URL\", \"\"),\n",
    "    graph=gx,\n",
    "    smithy_version=\"\",\n",
    "    pinning_version=\"\",\n",
    "    github_username=\"\",\n",
    "    github_password=\"\",\n",
    "    github_token=\"\",\n",
    "    dry_run=False,\n",
    ")\n",
    "\n",
    "mmctx = MigratorContext(session=mctx, migrator=mg)\n",
    "mg.bind_to_ctx(mmctx)"
   ]
  },
  {
   "cell_type": "code",
   "execution_count": null,
   "metadata": {},
   "outputs": [],
   "source": [
    "mg.graph[\"outputs_lut\"]"
   ]
  },
  {
   "cell_type": "code",
   "execution_count": null,
   "metadata": {},
   "outputs": [],
   "source": [
    "import networkx as nx"
   ]
  },
  {
   "cell_type": "code",
   "execution_count": null,
   "metadata": {},
   "outputs": [],
   "source": [
    "print(sorted(mg.graph.predecessors(\"bcrypt\")))"
   ]
  },
  {
   "cell_type": "code",
   "execution_count": null,
   "metadata": {},
   "outputs": [],
   "source": [
    "mgs = []\n",
    "add_rebuild_broken_migrator(mgs, gx)"
   ]
  },
  {
   "cell_type": "code",
   "execution_count": null,
   "metadata": {},
   "outputs": [],
   "source": [
    "mg = mgs[0]"
   ]
  },
  {
   "cell_type": "code",
   "execution_count": null,
   "metadata": {},
   "outputs": [],
   "source": [
    "import os\n",
    "from conda_forge_tick.contexts import MigratorContext, MigratorSessionContext\n",
    "\n",
    "\n",
    "mctx = MigratorSessionContext(\n",
    "    circle_build_url=os.getenv(\"CIRCLE_BUILD_URL\", \"\"),\n",
    "    graph=gx,\n",
    "    smithy_version=\"\",\n",
    "    pinning_version=\"\",\n",
    "    github_username=\"\",\n",
    "    github_password=\"\",\n",
    "    github_token=\"\",\n",
    "    dry_run=False,\n",
    ")\n",
    "\n",
    "mmctx = MigratorContext(session=mctx, migrator=mg)\n",
    "mg.bind_to_ctx(mmctx)"
   ]
  },
  {
   "cell_type": "code",
   "execution_count": null,
   "metadata": {},
   "outputs": [],
   "source": [
    "mmctx.effective_graph.nodes"
   ]
  },
  {
   "cell_type": "code",
   "execution_count": null,
   "metadata": {},
   "outputs": [],
   "source": []
  },
  {
   "cell_type": "code",
   "execution_count": null,
   "metadata": {},
   "outputs": [],
   "source": []
  },
  {
   "cell_type": "code",
   "execution_count": null,
   "metadata": {
    "scrolled": true
   },
   "outputs": [],
   "source": [
    "mg_name = \"libffi33\"\n",
    "\n",
    "mgs = []\n",
    "migration_factory(mgs, gx, only_keep=[mg_name])\n",
    "\n",
    "for i in range(len(mgs)):\n",
    "    if mgs[i].name == mg_name:\n",
    "        break\n",
    "mg = mgs[i]"
   ]
  },
  {
   "cell_type": "code",
   "execution_count": null,
   "metadata": {},
   "outputs": [],
   "source": [
    "import copy\n",
    "\n",
    "attrs = copy.deepcopy(mg.graph.nodes[\"python\"][\"payload\"].data)\n",
    "\n",
    "attrs[\"branch\"] = \"3.6\"\n",
    "mg.filter(attrs)"
   ]
  },
  {
   "cell_type": "code",
   "execution_count": null,
   "metadata": {},
   "outputs": [],
   "source": [
    "import os\n",
    "from conda_forge_tick.contexts import MigratorContext, MigratorSessionContext\n",
    "\n",
    "\n",
    "mctx = MigratorSessionContext(\n",
    "    circle_build_url=os.getenv(\"CIRCLE_BUILD_URL\", \"\"),\n",
    "    graph=gx,\n",
    "    smithy_version=\"\",\n",
    "    pinning_version=\"\",\n",
    "    github_username=\"\",\n",
    "    github_password=\"\",\n",
    "    github_token=\"\",\n",
    ")\n",
    "\n",
    "mmctx = MigratorContext(session=mctx, migrator=mg)\n",
    "mg.bind_to_ctx(mmctx)\n"
   ]
  },
  {
   "cell_type": "code",
   "execution_count": null,
   "metadata": {},
   "outputs": [],
   "source": [
    "mmctx.effective_graph.nodes"
   ]
  },
  {
   "cell_type": "code",
   "execution_count": null,
   "metadata": {},
   "outputs": [],
   "source": []
  },
  {
   "cell_type": "code",
   "execution_count": null,
   "metadata": {},
   "outputs": [],
   "source": []
  },
  {
   "cell_type": "code",
   "execution_count": null,
   "metadata": {},
   "outputs": [],
   "source": []
  },
  {
   "cell_type": "markdown",
   "metadata": {},
   "source": [
    "## Check the Status Report"
   ]
  },
  {
   "cell_type": "code",
   "execution_count": null,
   "metadata": {},
   "outputs": [],
   "source": [
    "from conda_forge_tick.status_report import  graph_migrator_status"
   ]
  },
  {
   "cell_type": "code",
   "execution_count": null,
   "metadata": {},
   "outputs": [],
   "source": [
    "out2, build_sequence, gv = graph_migrator_status(mg, mg.graph)"
   ]
  },
  {
   "cell_type": "code",
   "execution_count": null,
   "metadata": {},
   "outputs": [],
   "source": [
    "gv.view()"
   ]
  },
  {
   "cell_type": "code",
   "execution_count": null,
   "metadata": {},
   "outputs": [],
   "source": [
    "build_sequence"
   ]
  },
  {
   "cell_type": "code",
   "execution_count": null,
   "metadata": {},
   "outputs": [],
   "source": [
    "len(build_sequence)"
   ]
  },
  {
   "cell_type": "code",
   "execution_count": null,
   "metadata": {},
   "outputs": [],
   "source": [
    "gx.nodes[\"proj\"][\"payload\"].data"
   ]
  },
  {
   "cell_type": "code",
   "execution_count": null,
   "metadata": {},
   "outputs": [],
   "source": []
  },
  {
   "cell_type": "code",
   "execution_count": null,
   "metadata": {},
   "outputs": [],
   "source": []
  },
  {
   "cell_type": "markdown",
   "metadata": {},
   "source": [
    "## Debug Pinning Migrations"
   ]
  },
  {
   "cell_type": "code",
   "execution_count": null,
   "metadata": {},
   "outputs": [],
   "source": [
    "from conda_forge_tick.auto_tick import create_migration_yaml_creator"
   ]
  },
  {
   "cell_type": "code",
   "execution_count": null,
   "metadata": {},
   "outputs": [],
   "source": [
    "mgs = []\n",
    "create_migration_yaml_creator(mgs, gx, pin_to_debug=\"ucx\")"
   ]
  },
  {
   "cell_type": "code",
   "execution_count": null,
   "metadata": {},
   "outputs": [],
   "source": [
    "gx.nodes[\"ucx-split\"][\"payload\"].get(\"version\")"
   ]
  },
  {
   "cell_type": "code",
   "execution_count": null,
   "metadata": {},
   "outputs": [],
   "source": []
  }
 ],
 "metadata": {
  "kernelspec": {
   "display_name": "Python [conda env:bot-dev]",
   "language": "python",
   "name": "conda-env-bot-dev-py"
  },
  "language_info": {
   "codemirror_mode": {
    "name": "ipython",
    "version": 3
   },
   "file_extension": ".py",
   "mimetype": "text/x-python",
   "name": "python",
   "nbconvert_exporter": "python",
   "pygments_lexer": "ipython3",
   "version": "3.11.9"
  }
 },
 "nbformat": 4,
 "nbformat_minor": 4
}
